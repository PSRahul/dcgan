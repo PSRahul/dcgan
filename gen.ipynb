{
 "cells": [
  {
   "cell_type": "code",
   "execution_count": 1,
   "metadata": {},
   "outputs": [],
   "source": [
    "from pythonfiles.generator import GenModel"
   ]
  },
  {
   "cell_type": "code",
   "execution_count": 2,
   "metadata": {},
   "outputs": [],
   "source": [
    "from torchsummary import summary\n",
    "import torch\n",
    "from torch.utils.tensorboard import SummaryWriter\n",
    "from datetime import datetime\n",
    "from tqdm import tqdm\n",
    "import numpy as np\n",
    "import matplotlib.pyplot as plt\n",
    "import torchvision  \n",
    "import argparse"
   ]
  },
  {
   "cell_type": "code",
   "execution_count": 3,
   "metadata": {},
   "outputs": [],
   "source": [
    "hparams = {\n",
    "    'z_shape': 128,\n",
    "    'gen_final_layer_size': 3,\n",
    "    'image_input_shape': 64,\n",
    "    'batch_size': 128,\n",
    "    'epochs': 5,\n",
    "    'dropout_1':0.7,\n",
    "    'dropout_2':0.7,\n",
    "    \n",
    "}\n",
    "savestring=\"dp1\"+str(int(hparams['dropout_1']*10))+\"dp2\"+str(int(hparams['dropout_2']*10))\n",
    "\n"
   ]
  },
  {
   "cell_type": "code",
   "execution_count": 4,
   "metadata": {},
   "outputs": [
    {
     "output_type": "stream",
     "name": "stdout",
     "text": [
      "Using the  Device -  cuda:0\n"
     ]
    }
   ],
   "source": [
    "device = torch.device(\"cuda:0\" if torch.cuda.is_available() else \"cpu\")\n",
    "print(\"Using the  Device - \", device)\n"
   ]
  },
  {
   "cell_type": "code",
   "execution_count": 5,
   "metadata": {},
   "outputs": [
    {
     "output_type": "execute_result",
     "data": {
      "text/plain": [
       "GenModel(\n",
       "  (network): Sequential(\n",
       "    (0): ConvTranspose2d(128, 12, kernel_size=(3, 3), stride=(1, 1))\n",
       "    (1): BatchNorm2d(12, eps=1e-05, momentum=0.1, affine=True, track_running_stats=True)\n",
       "    (2): LeakyReLU(negative_slope=0.01)\n",
       "    (3): Dropout(p=0.7, inplace=False)\n",
       "    (4): ConvTranspose2d(12, 24, kernel_size=(3, 3), stride=(1, 1))\n",
       "    (5): BatchNorm2d(24, eps=1e-05, momentum=0.1, affine=True, track_running_stats=True)\n",
       "    (6): LeakyReLU(negative_slope=0.01)\n",
       "    (7): Dropout(p=0.7, inplace=False)\n",
       "    (8): ConvTranspose2d(24, 36, kernel_size=(3, 3), stride=(1, 1))\n",
       "    (9): BatchNorm2d(36, eps=1e-05, momentum=0.1, affine=True, track_running_stats=True)\n",
       "    (10): LeakyReLU(negative_slope=0.01)\n",
       "    (11): Dropout(p=0.7, inplace=False)\n",
       "    (12): ConvTranspose2d(36, 48, kernel_size=(3, 3), stride=(1, 1))\n",
       "    (13): BatchNorm2d(48, eps=1e-05, momentum=0.1, affine=True, track_running_stats=True)\n",
       "    (14): LeakyReLU(negative_slope=0.01)\n",
       "    (15): Dropout(p=0.7, inplace=False)\n",
       "    (16): ConvTranspose2d(48, 72, kernel_size=(3, 3), stride=(1, 1))\n",
       "    (17): BatchNorm2d(72, eps=1e-05, momentum=0.1, affine=True, track_running_stats=True)\n",
       "    (18): LeakyReLU(negative_slope=0.01)\n",
       "    (19): Dropout(p=0.7, inplace=False)\n",
       "    (20): ConvTranspose2d(72, 96, kernel_size=(3, 3), stride=(1, 1))\n",
       "    (21): BatchNorm2d(96, eps=1e-05, momentum=0.1, affine=True, track_running_stats=True)\n",
       "    (22): LeakyReLU(negative_slope=0.01)\n",
       "    (23): Dropout(p=0.7, inplace=False)\n",
       "    (24): ConvTranspose2d(96, 144, kernel_size=(4, 4), stride=(1, 1))\n",
       "    (25): BatchNorm2d(144, eps=1e-05, momentum=0.1, affine=True, track_running_stats=True)\n",
       "    (26): LeakyReLU(negative_slope=0.01)\n",
       "    (27): Dropout(p=0.7, inplace=False)\n",
       "    (28): ConvTranspose2d(144, 192, kernel_size=(4, 4), stride=(2, 2), padding=(1, 1))\n",
       "    (29): BatchNorm2d(192, eps=1e-05, momentum=0.1, affine=True, track_running_stats=True)\n",
       "    (30): LeakyReLU(negative_slope=0.01, inplace=True)\n",
       "    (31): Dropout(p=0.7, inplace=False)\n",
       "    (32): ConvTranspose2d(192, 3, kernel_size=(4, 4), stride=(2, 2), padding=(1, 1))\n",
       "    (33): Tanh()\n",
       "  )\n",
       ")"
      ]
     },
     "metadata": {},
     "execution_count": 5
    }
   ],
   "source": [
    "gen_model = GenModel(hparams)\n",
    "gen_model = gen_model.to(device)\n",
    "gen_model.load_state_dict(torch.load(\"models/gen\"+str(4)+savestring))\n",
    "gen_model.eval()"
   ]
  },
  {
   "cell_type": "code",
   "execution_count": null,
   "metadata": {},
   "outputs": [],
   "source": []
  },
  {
   "cell_type": "code",
   "execution_count": 8,
   "metadata": {},
   "outputs": [],
   "source": [
    "#for seed n tqdm(range(10)):\n",
    "seed=2563\n",
    "torch.manual_seed(seed)\n",
    "vis_noise = torch.randn(1, hparams['z_shape'], 1, 1, device=device)\n",
    "with torch.no_grad():\n",
    "        img_out_full=gen_model(vis_noise)\n",
    "        torchvision.utils.save_image(img_out_full,fp=\"samples/\"+str(seed)+savestring+\".png\",normalize=True,nrow=1)\n"
   ]
  },
  {
   "cell_type": "code",
   "execution_count": null,
   "metadata": {},
   "outputs": [],
   "source": []
  },
  {
   "cell_type": "code",
   "execution_count": null,
   "metadata": {},
   "outputs": [],
   "source": []
  },
  {
   "cell_type": "code",
   "execution_count": null,
   "metadata": {},
   "outputs": [],
   "source": []
  }
 ],
 "metadata": {
  "kernelspec": {
   "display_name": "Python 3",
   "language": "python",
   "name": "python3"
  },
  "language_info": {
   "codemirror_mode": {
    "name": "ipython",
    "version": 3
   },
   "file_extension": ".py",
   "mimetype": "text/x-python",
   "name": "python",
   "nbconvert_exporter": "python",
   "pygments_lexer": "ipython3",
   "version": "3.9.1-final"
  },
  "varInspector": {
   "cols": {
    "lenName": 16,
    "lenType": 16,
    "lenVar": 40
   },
   "kernels_config": {
    "python": {
     "delete_cmd_postfix": "",
     "delete_cmd_prefix": "del ",
     "library": "var_list.py",
     "varRefreshCmd": "print(var_dic_list())"
    },
    "r": {
     "delete_cmd_postfix": ") ",
     "delete_cmd_prefix": "rm(",
     "library": "var_list.r",
     "varRefreshCmd": "cat(var_dic_list()) "
    }
   },
   "types_to_exclude": [
    "module",
    "function",
    "builtin_function_or_method",
    "instance",
    "_Feature"
   ],
   "window_display": false
  }
 },
 "nbformat": 4,
 "nbformat_minor": 4
}