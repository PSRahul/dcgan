{
 "cells": [
  {
   "cell_type": "code",
   "execution_count": null,
   "metadata": {},
   "outputs": [],
   "source": [
    "from pythonfiles.data_class import *\n",
    "from pythonfiles.generator import GenModel\n",
    "from pythonfiles.discriminator import DisModel\n",
    "from pythonfiles.model_utility import *\n",
    "\n",
    "\n",
    "from torchsummary import summary\n",
    "import torch\n",
    "from torch.utils.tensorboard import SummaryWriter\n",
    "from datetime import datetime\n",
    "from tqdm import tqdm\n",
    "import numpy as np\n",
    "import matplotlib.pyplot as plt\n",
    "import torchvision  \n",
    "\n",
    "%load_ext autoreload\n",
    "%autoreload 2"
   ]
  },
  {
   "cell_type": "code",
   "execution_count": null,
   "metadata": {},
   "outputs": [],
   "source": [
    "hparams = {\n",
    "    'z_shape': 128,\n",
    "    'gen_final_layer_size': 3,\n",
    "    'image_input_shape': 64,\n",
    "    'batch_size': 128,\n",
    "    'epochs': 5,\n",
    "}\n"
   ]
  },
  {
   "cell_type": "code",
   "execution_count": null,
   "metadata": {},
   "outputs": [],
   "source": [
    "device = torch.device(\"cuda:0\" if torch.cuda.is_available() else \"cpu\")\n",
    "print(\"Using the  Device - \", device)"
   ]
  },
  {
   "cell_type": "code",
   "execution_count": null,
   "metadata": {},
   "outputs": [],
   "source": [
    "\n",
    "gen_model = GenModel(hparams)\n",
    "dis_model = DisModel(hparams)\n",
    "\n",
    "dis_model = dis_model.apply(init_weights)\n",
    "gen_model = gen_model.apply(init_weights)\n",
    "\n",
    "dis_model = dis_model.to(device)\n",
    "gen_model = gen_model.to(device)"
   ]
  },
  {
   "cell_type": "code",
   "execution_count": null,
   "metadata": {},
   "outputs": [],
   "source": [
    "\n",
    "gen_optimizer = torch.optim.Adam(gen_model.parameters(),lr=0.0002,betas=(0.5, 0.999))\n",
    "dis_optimizer = torch.optim.Adam(dis_model.parameters(),lr=0.0002,betas=(0.5, 0.999))\n",
    "loss_function = torch.nn.BCELoss(reduction='mean')"
   ]
  },
  {
   "cell_type": "code",
   "execution_count": null,
   "metadata": {},
   "outputs": [],
   "source": [
    " logdir = \"logs/\" + datetime.now().strftime(\"%Y%m%d-%H%M%S\")\n",
    " writer = SummaryWriter(logdir)"
   ]
  },
  {
   "cell_type": "code",
   "execution_count": null,
   "metadata": {},
   "outputs": [],
   "source": []
  },
  {
   "cell_type": "code",
   "execution_count": null,
   "metadata": {},
   "outputs": [],
   "source": []
  },
  {
   "cell_type": "code",
   "execution_count": null,
   "metadata": {},
   "outputs": [],
   "source": [
    "#from torchsummary import summary\n",
    "#dis_model =  DisModel(hparams)\n",
    "#dis_model.cuda()\n",
    "#summary(dis_model,(3,64,64))"
   ]
  },
  {
   "cell_type": "code",
   "execution_count": null,
   "metadata": {},
   "outputs": [],
   "source": [
    "real_dataloader = data_setup(batch_size=hparams['batch_size'],foldername=\"data/fulldata\")\n",
    "real_label_dis = torch.ones(hparams['batch_size'], 1,device=device)\n",
    "fake_label = torch.zeros(hparams['batch_size'], 1,device=device)\n",
    "real_label_gen = torch.ones(hparams['batch_size'], 1,device=device)\n"
   ]
  },
  {
   "cell_type": "code",
   "execution_count": null,
   "metadata": {},
   "outputs": [],
   "source": [
    "vis_noise = torch.randn(8, hparams['z_shape'], 1, 1, device=device)"
   ]
  },
  {
   "cell_type": "code",
   "execution_count": null,
   "metadata": {
    "tags": []
   },
   "outputs": [],
   "source": [
    "dis_fn_real_list = []\n",
    "dis_fn_fake_list = []\n",
    "\n",
    "dis_loss_list = []\n",
    "gen_loss_list = []\n",
    "cntr = 0\n",
    "for epoch in tqdm(range(hparams['epochs'])):\n",
    "    for data in tqdm(real_dataloader):\n",
    "        dis_model.train()\n",
    "        gen_model.train()\n",
    "        #dis_model.zero_grad()\n",
    "        dis_optimizer.zero_grad()\n",
    "\n",
    "        # Discriminator update for real data\n",
    "        data = data[0]\n",
    "        data = data.to(device)\n",
    "\n",
    "        real_outputs = dis_model(data)\n",
    "        #dis_fn_real_list.append(torch.mean(real_outputs.detach().cpu()))\n",
    "        #writer.add_scalar('Discriminator Function Real',\n",
    "        #                  torch.mean(real_outputs.detach().cpu()), cntr)\n",
    "        real_loss = loss_function(real_outputs, real_label_dis)\n",
    "        real_loss.backward()\n",
    "        running_real_loss = real_loss.item()\n",
    "\n",
    "        # Discriminator update for fake data\n",
    "\n",
    "        fake_noise = torch.randn(\n",
    "            hparams['batch_size'], hparams['z_shape'], 1, 1, device=device)\n",
    "        fake_image = gen_model(fake_noise)\n",
    "        fake_outputs = dis_model(fake_image.detach())\n",
    "        #dis_fn_fake_list.append((torch.mean(fake_outputs)).numpy())\n",
    "        #writer.add_scalar('Discriminator Function Fake',\n",
    "          #                torch.mean(fake_outputs.detach().cpu()), cntr)\n",
    "\n",
    "        fake_loss = loss_function(fake_outputs, fake_label)\n",
    "        fake_loss.backward()\n",
    "        running_fake_loss = fake_loss.item()\n",
    "        dis_loss = running_fake_loss+running_real_loss\n",
    "\n",
    "        dis_loss_list.append(dis_loss)\n",
    "        writer.add_scalar('Discriminator Loss',\n",
    "                         running_fake_loss+running_real_loss, cntr)\n",
    "\n",
    "        dis_optimizer.step()\n",
    "\n",
    "        # Generator update\n",
    "\n",
    "        # fake_noise = torch.randn(\n",
    "        #   hparams['batch_size'], hparams['z_shape'], 1, 1,device=device)\n",
    "        #fake_image = gen_model(fake_noise)\n",
    "        gen_optimizer.zero_grad()\n",
    "        #gen_model.zero_grad()\n",
    "        fake_outputs = dis_model(fake_image)\n",
    "\n",
    "        gen_loss = loss_function(fake_outputs, real_label_gen)\n",
    "        running_gen_loss = gen_loss.item()\n",
    "        gen_loss_list.append(running_gen_loss)\n",
    "        writer.add_scalar('Generator Loss', running_gen_loss, cntr)\n",
    "        gen_loss.backward()\n",
    "        gen_optimizer.step()\n",
    "\n",
    "        cntr += 1\n",
    "\n",
    "       \n",
    "    \n",
    "    \n",
    "    torch.save(dis_model.state_dict(), \"models/dis\"+str(epoch))\n",
    "    torch.save(gen_model.state_dict(), \"models/gen\"+str(epoch))\n",
    "    gen_model.eval()\n",
    "    with torch.no_grad():\n",
    "        img_out_full=gen_model(vis_noise)\n",
    "        torchvision.utils.save_image(img_out_full,fp=\"figures/epoch\"+str(epoch)+\".png\",normalize=True,nrow=2)\n",
    "\n",
    "\n",
    "      \n",
    "\n",
    "    "
   ]
  },
  {
   "cell_type": "code",
   "execution_count": null,
   "metadata": {},
   "outputs": [],
   "source": []
  }
 ],
 "metadata": {
  "kernelspec": {
   "name": "python3",
   "display_name": "Python 3.9.1 64-bit ('pyt': conda)",
   "metadata": {
    "interpreter": {
     "hash": "db440c4a8e798f4d47c24a1927ce96fdafb76acfbff3d1f458d7c095892c2a7b"
    }
   }
  },
  "language_info": {
   "codemirror_mode": {
    "name": "ipython",
    "version": 3
   },
   "file_extension": ".py",
   "mimetype": "text/x-python",
   "name": "python",
   "nbconvert_exporter": "python",
   "pygments_lexer": "ipython3",
   "version": "3.9.1-final"
  }
 },
 "nbformat": 4,
 "nbformat_minor": 4
}