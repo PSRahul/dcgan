{
 "cells": [
  {
   "cell_type": "code",
   "execution_count": 1,
   "metadata": {},
   "outputs": [],
   "source": [
    "from pythonfiles2.data_class import *\n",
    "from pythonfiles2.generator import GenModel\n",
    "from pythonfiles2.discriminator import DisModel\n",
    "from pythonfiles2.model_utility import *\n",
    "from pythonfiles2.des_train import *\n",
    "\n",
    "\n",
    "from torchsummary import summary\n",
    "import torch\n"
   ]
  },
  {
   "cell_type": "code",
   "execution_count": 2,
   "metadata": {},
   "outputs": [],
   "source": [
    "hparams = {\n",
    "    'z_shape': 128,\n",
    "    'gen_final_layer_size': 3,\n",
    "    'image_input_shape': 64,\n",
    "    'batch_size': 1000,\n",
    "    'epochs': 1\n",
    "}\n"
   ]
  },
  {
   "cell_type": "code",
   "execution_count": 3,
   "metadata": {},
   "outputs": [],
   "source": [
    "\n",
    "gen_model = GenModel(hparams)\n",
    "dis_model = DisModel(hparams)\n",
    "\n",
    "dis_model = dis_model.apply(init_weights)\n",
    "gen_model = gen_model.apply(init_weights)"
   ]
  },
  {
   "cell_type": "code",
   "execution_count": 4,
   "metadata": {},
   "outputs": [],
   "source": [
    "\n",
    "gen_optimizer = torch.optim.Adadelta(gen_model.parameters())\n",
    "dis_optimizer = torch.optim.Adadelta(dis_model.parameters())\n",
    "loss_function = torch.nn.BCELoss(reduction='mean')"
   ]
  },
  {
   "cell_type": "code",
   "execution_count": 5,
   "metadata": {},
   "outputs": [
    {
     "name": "stdout",
     "output_type": "stream",
     "text": [
      "Using the  Device -  cuda:0\n"
     ]
    }
   ],
   "source": [
    "device = torch.device(\"cuda:0\" if torch.cuda.is_available() else \"cpu\")\n",
    "print(\"Using the  Device - \", device)"
   ]
  },
  {
   "cell_type": "code",
   "execution_count": 6,
   "metadata": {},
   "outputs": [],
   "source": [
    "real_dataloader = data_setup(batch_size=hparams['batch_size'])\n",
    "real_label = torch.ones(hparams['batch_size'], 1)\n",
    "fake_label = torch.zeros(hparams['batch_size'], 1)"
   ]
  },
  {
   "cell_type": "code",
   "execution_count": null,
   "metadata": {},
   "outputs": [],
   "source": []
  },
  {
   "cell_type": "code",
   "execution_count": null,
   "metadata": {},
   "outputs": [],
   "source": []
  },
  {
   "cell_type": "code",
   "execution_count": null,
   "metadata": {},
   "outputs": [],
   "source": []
  }
 ],
 "metadata": {
  "kernelspec": {
   "display_name": "Python 3",
   "language": "python",
   "name": "python3"
  },
  "language_info": {
   "codemirror_mode": {
    "name": "ipython",
    "version": 3
   },
   "file_extension": ".py",
   "mimetype": "text/x-python",
   "name": "python",
   "nbconvert_exporter": "python",
   "pygments_lexer": "ipython3",
   "version": "3.9.1"
  }
 },
 "nbformat": 4,
 "nbformat_minor": 4
}
