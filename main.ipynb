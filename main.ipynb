{
 "cells": [
  {
   "cell_type": "code",
   "execution_count": 1,
   "metadata": {},
   "outputs": [],
   "source": [
    "from pythonfiles.data_class import *\n",
    "from pythonfiles.generator import GenModel\n",
    "from pythonfiles.discriminator import DisModel\n",
    "from pythonfiles.model_utility import *\n",
    "\n",
    "\n",
    "from torchsummary import summary\n",
    "import torch\n"
   ]
  },
  {
   "cell_type": "code",
   "execution_count": 2,
   "metadata": {},
   "outputs": [],
   "source": [
    "hparams = {\n",
    "    'z_shape': 128,\n",
    "    'gen_final_layer_size': 3,\n",
    "    'image_input_shape': 64,\n",
    "    'batch_size': 2,\n",
    "    'epochs': 5\n",
    "}\n"
   ]
  },
  {
   "cell_type": "code",
   "execution_count": 3,
   "metadata": {},
   "outputs": [
    {
     "output_type": "stream",
     "name": "stdout",
     "text": [
      "Using the  Device -  cuda:0\n"
     ]
    }
   ],
   "source": [
    "device = torch.device(\"cuda:0\" if torch.cuda.is_available() else \"cpu\")\n",
    "print(\"Using the  Device - \", device)"
   ]
  },
  {
   "cell_type": "code",
   "execution_count": 4,
   "metadata": {},
   "outputs": [],
   "source": [
    "\n",
    "gen_model = GenModel(hparams)\n",
    "dis_model = DisModel(hparams)\n",
    "\n",
    "dis_model = dis_model.apply(init_weights)\n",
    "gen_model = gen_model.apply(init_weights)\n",
    "\n",
    "dis_model = dis_model.to(device)\n",
    "gen_model = gen_model.to(device)"
   ]
  },
  {
   "cell_type": "code",
   "execution_count": 5,
   "metadata": {},
   "outputs": [],
   "source": [
    "\n",
    "gen_optimizer = torch.optim.Adadelta(gen_model.parameters())\n",
    "dis_optimizer = torch.optim.Adadelta(dis_model.parameters())\n",
    "loss_function = torch.nn.BCELoss(reduction='mean')"
   ]
  },
  {
   "cell_type": "code",
   "execution_count": 6,
   "metadata": {},
   "outputs": [
    {
     "output_type": "stream",
     "name": "stdout",
     "text": [
      "----------------------------------------------------------------\n        Layer (type)               Output Shape         Param #\n================================================================\n            Conv2d-1            [-1, 6, 32, 32]             294\n       BatchNorm2d-2            [-1, 6, 32, 32]              12\n             PReLU-3            [-1, 6, 32, 32]               1\n            Conv2d-4           [-1, 12, 16, 16]           1,164\n       BatchNorm2d-5           [-1, 12, 16, 16]              24\n             PReLU-6           [-1, 12, 16, 16]               1\n            Conv2d-7             [-1, 24, 8, 8]           4,632\n       BatchNorm2d-8             [-1, 24, 8, 8]              48\n             PReLU-9             [-1, 24, 8, 8]               1\n           Conv2d-10             [-1, 48, 2, 2]          18,480\n      BatchNorm2d-11             [-1, 48, 2, 2]              96\n            PReLU-12             [-1, 48, 2, 2]               1\n           Conv2d-13              [-1, 1, 1, 1]             193\n          Flatten-14                    [-1, 1]               0\n          Sigmoid-15                    [-1, 1]               0\n================================================================\nTotal params: 24,947\nTrainable params: 24,947\nNon-trainable params: 0\n----------------------------------------------------------------\nInput size (MB): 0.05\nForward/backward pass size (MB): 0.25\nParams size (MB): 0.10\nEstimated Total Size (MB): 0.39\n----------------------------------------------------------------\n"
     ]
    }
   ],
   "source": [
    "from torchsummary import summary\n",
    "summary(dis_model,(3,64,64))"
   ]
  },
  {
   "cell_type": "code",
   "execution_count": 7,
   "metadata": {},
   "outputs": [],
   "source": [
    "real_dataloader = data_setup(batch_size=hparams['batch_size'])\n",
    "real_label = torch.ones(hparams['batch_size'], 1,device=device)\n",
    "fake_label = torch.zeros(hparams['batch_size'], 1,device=device)"
   ]
  },
  {
   "cell_type": "code",
   "execution_count": 8,
   "metadata": {},
   "outputs": [],
   "source": [
    "dis_fn_real_list=[]\n",
    "dis_fn_fake_list=[]\n",
    "\n",
    "dis_loss_list=[]\n",
    "gen_loss_list=[]\n",
    "\n",
    "for epoch in range(hparams['epochs']):\n",
    "    for i, data in enumerate(real_dataloader, 0):\n",
    "\n",
    "        dis_model.zero_grad()\n",
    "\n",
    "        #Discriminator update for real data\n",
    "        data = data[0]\n",
    "        data = data.to(device)\n",
    "\n",
    "        real_outputs = dis_model(data)\n",
    "        dis_fn_real_list.append(torch.mean(real_outputs.detach().cpu()))\n",
    "        real_loss = loss_function(real_outputs, real_label)\n",
    "        real_loss.backward()\n",
    "        running_real_loss = real_loss.item()\n",
    "\n",
    "        #Discriminator update for fake data\n",
    "\n",
    "        fake_noise = torch.randn(\n",
    "            hparams['batch_size'], hparams['z_shape'], 1, 1,device=device)\n",
    "        fake_image = gen_model(fake_noise)\n",
    "        fake_outputs = dis_model(fake_image.detach())\n",
    "        dis_fn_fake_list.append(torch.mean(fake_outputs.detach().cpu()))\n",
    "\n",
    "        fake_loss = loss_function(fake_outputs, fake_label)\n",
    "        fake_loss.backward()\n",
    "        running_fake_loss = fake_loss.item()\n",
    "\n",
    "        dis_loss_list.append(running_fake_loss+running_real_loss)\n",
    "\n",
    "        dis_optimizer.step()\n",
    "        \n",
    "        #Generator update\n",
    "\n",
    "        fake_noise = torch.randn(\n",
    "            hparams['batch_size'], hparams['z_shape'], 1, 1,device=device)\n",
    "        fake_image = gen_model(fake_noise)\n",
    "        fake_outputs = dis_model(fake_image.detach())\n",
    "        \n",
    "        gen_loss = loss_function(fake_outputs, real_label)\n",
    "        running_gen_loss = gen_loss.item()\n",
    "        gen_loss_list.append(running_gen_loss)\n",
    "\n",
    "        gen_loss.backward()\n",
    "        gen_optimizer.step()\n",
    "\n",
    "        "
   ]
  },
  {
   "cell_type": "code",
   "execution_count": 9,
   "metadata": {},
   "outputs": [
    {
     "output_type": "execute_result",
     "data": {
      "text/plain": [
       "25"
      ]
     },
     "metadata": {},
     "execution_count": 9
    }
   ],
   "source": [
    "len(dis_fn_fake_list)"
   ]
  },
  {
   "cell_type": "code",
   "execution_count": 10,
   "metadata": {},
   "outputs": [
    {
     "output_type": "execute_result",
     "data": {
      "text/plain": [
       "25"
      ]
     },
     "metadata": {},
     "execution_count": 10
    }
   ],
   "source": [
    "len(dis_fn_real_list)"
   ]
  },
  {
   "cell_type": "code",
   "execution_count": 11,
   "metadata": {},
   "outputs": [
    {
     "output_type": "execute_result",
     "data": {
      "text/plain": [
       "25"
      ]
     },
     "metadata": {},
     "execution_count": 11
    }
   ],
   "source": [
    "len(dis_loss_list)"
   ]
  },
  {
   "cell_type": "code",
   "execution_count": 12,
   "metadata": {},
   "outputs": [
    {
     "output_type": "execute_result",
     "data": {
      "text/plain": [
       "25"
      ]
     },
     "metadata": {},
     "execution_count": 12
    }
   ],
   "source": [
    "len(gen_loss_list)"
   ]
  },
  {
   "cell_type": "code",
   "execution_count": 13,
   "metadata": {},
   "outputs": [
    {
     "output_type": "execute_result",
     "data": {
      "text/plain": [
       "[1.3018591403961182,\n",
       " 0.8219870924949646,\n",
       " 0.6639832258224487,\n",
       " 1.9228219985961914,\n",
       " 2.0108916759490967,\n",
       " 3.0045371055603027,\n",
       " 2.7105469703674316,\n",
       " 2.7447574138641357,\n",
       " 2.9884958267211914,\n",
       " 3.725288152694702,\n",
       " 3.241199493408203,\n",
       " 3.0003814697265625,\n",
       " 4.090398788452148,\n",
       " 2.816197395324707,\n",
       " 3.771660327911377,\n",
       " 3.9374473094940186,\n",
       " 3.363403558731079,\n",
       " 3.5021839141845703,\n",
       " 5.235326766967773,\n",
       " 3.729485511779785,\n",
       " 4.513854503631592,\n",
       " 4.693154335021973,\n",
       " 4.2474751472473145,\n",
       " 4.851113319396973,\n",
       " 4.82398796081543]"
      ]
     },
     "metadata": {},
     "execution_count": 13
    }
   ],
   "source": [
    "gen_loss_list"
   ]
  },
  {
   "cell_type": "code",
   "execution_count": 14,
   "metadata": {},
   "outputs": [
    {
     "output_type": "execute_result",
     "data": {
      "text/plain": [
       "[2.0547125339508057,\n",
       " 1.5137582421302795,\n",
       " 1.273125559091568,\n",
       " 0.8834559917449951,\n",
       " 0.30197034776210785,\n",
       " 0.44785988703370094,\n",
       " 0.6009686514735222,\n",
       " 0.11387187242507935,\n",
       " 0.21805571019649506,\n",
       " 0.14441107772290707,\n",
       " 0.17371631041169167,\n",
       " 0.08864334970712662,\n",
       " 0.06114707142114639,\n",
       " 0.07172593660652637,\n",
       " 0.21339410450309515,\n",
       " 0.03332630358636379,\n",
       " 0.07110896334052086,\n",
       " 0.09051743149757385,\n",
       " 0.030964283272624016,\n",
       " 0.07766655273735523,\n",
       " 0.017642113380134106,\n",
       " 0.021891257259994745,\n",
       " 0.1025232058018446,\n",
       " 0.04282413795590401,\n",
       " 0.02709413692355156]"
      ]
     },
     "metadata": {},
     "execution_count": 14
    }
   ],
   "source": [
    "dis_loss_list"
   ]
  },
  {
   "cell_type": "code",
   "execution_count": null,
   "metadata": {},
   "outputs": [],
   "source": []
  }
 ],
 "metadata": {
  "kernelspec": {
   "display_name": "Python 3",
   "language": "python",
   "name": "python3"
  },
  "language_info": {
   "codemirror_mode": {
    "name": "ipython",
    "version": 3
   },
   "file_extension": ".py",
   "mimetype": "text/x-python",
   "name": "python",
   "nbconvert_exporter": "python",
   "pygments_lexer": "ipython3",
   "version": "3.9.1-final"
  }
 },
 "nbformat": 4,
 "nbformat_minor": 4
}